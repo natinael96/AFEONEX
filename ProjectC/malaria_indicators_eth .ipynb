{
 "cells": [
  {
   "cell_type": "code",
   "execution_count": 1,
   "metadata": {},
   "outputs": [],
   "source": [
    "import pandas as pd\n",
    "import numpy as np\n",
    "import re\n",
    "import matplotlib.pyplot as plt\n",
    "import plotly.graph_objects as go\n"
   ]
  },
  {
   "cell_type": "code",
   "execution_count": 2,
   "metadata": {},
   "outputs": [],
   "source": [
    "df = pd.read_csv('./malaria_indicators_eth .csv')"
   ]
  },
  {
   "cell_type": "code",
   "execution_count": 3,
   "metadata": {},
   "outputs": [
    {
     "data": {
      "text/html": [
       "<div>\n",
       "<style scoped>\n",
       "    .dataframe tbody tr th:only-of-type {\n",
       "        vertical-align: middle;\n",
       "    }\n",
       "\n",
       "    .dataframe tbody tr th {\n",
       "        vertical-align: top;\n",
       "    }\n",
       "\n",
       "    .dataframe thead th {\n",
       "        text-align: right;\n",
       "    }\n",
       "</style>\n",
       "<table border=\"1\" class=\"dataframe\">\n",
       "  <thead>\n",
       "    <tr style=\"text-align: right;\">\n",
       "      <th></th>\n",
       "      <th>GHO (CODE)</th>\n",
       "      <th>GHO (DISPLAY)</th>\n",
       "      <th>YEAR (CODE)</th>\n",
       "      <th>REGION (CODE)</th>\n",
       "      <th>REGION (DISPLAY)</th>\n",
       "      <th>COUNTRY (CODE)</th>\n",
       "      <th>COUNTRY (DISPLAY)</th>\n",
       "      <th>Numeric</th>\n",
       "      <th>Low</th>\n",
       "      <th>High</th>\n",
       "    </tr>\n",
       "  </thead>\n",
       "  <tbody>\n",
       "    <tr>\n",
       "      <th>0</th>\n",
       "      <td>MALARIA_IRS_COVERAGE</td>\n",
       "      <td>Number of people protected from malaria by ind...</td>\n",
       "      <td>2018</td>\n",
       "      <td>AFR</td>\n",
       "      <td>Africa</td>\n",
       "      <td>ETH</td>\n",
       "      <td>Ethiopia</td>\n",
       "      <td>10486854.0</td>\n",
       "      <td>NaN</td>\n",
       "      <td>NaN</td>\n",
       "    </tr>\n",
       "    <tr>\n",
       "      <th>1</th>\n",
       "      <td>MALARIA_IRS_COVERAGE</td>\n",
       "      <td>Number of people protected from malaria by ind...</td>\n",
       "      <td>2019</td>\n",
       "      <td>AFR</td>\n",
       "      <td>Africa</td>\n",
       "      <td>ETH</td>\n",
       "      <td>Ethiopia</td>\n",
       "      <td>7782034.0</td>\n",
       "      <td>NaN</td>\n",
       "      <td>NaN</td>\n",
       "    </tr>\n",
       "    <tr>\n",
       "      <th>2</th>\n",
       "      <td>MALARIA_IRS_COVERAGE</td>\n",
       "      <td>Number of people protected from malaria by ind...</td>\n",
       "      <td>2020</td>\n",
       "      <td>AFR</td>\n",
       "      <td>Africa</td>\n",
       "      <td>ETH</td>\n",
       "      <td>Ethiopia</td>\n",
       "      <td>6349834.0</td>\n",
       "      <td>NaN</td>\n",
       "      <td>NaN</td>\n",
       "    </tr>\n",
       "    <tr>\n",
       "      <th>3</th>\n",
       "      <td>MALARIA_PV_INDIG</td>\n",
       "      <td>Number of indigenous P. vivax malaria cases</td>\n",
       "      <td>2010</td>\n",
       "      <td>AFR</td>\n",
       "      <td>Africa</td>\n",
       "      <td>ETH</td>\n",
       "      <td>Ethiopia</td>\n",
       "      <td>390252.0</td>\n",
       "      <td>NaN</td>\n",
       "      <td>NaN</td>\n",
       "    </tr>\n",
       "    <tr>\n",
       "      <th>4</th>\n",
       "      <td>MALARIA_PV_INDIG</td>\n",
       "      <td>Number of indigenous P. vivax malaria cases</td>\n",
       "      <td>2011</td>\n",
       "      <td>AFR</td>\n",
       "      <td>Africa</td>\n",
       "      <td>ETH</td>\n",
       "      <td>Ethiopia</td>\n",
       "      <td>665813.0</td>\n",
       "      <td>NaN</td>\n",
       "      <td>NaN</td>\n",
       "    </tr>\n",
       "  </tbody>\n",
       "</table>\n",
       "</div>"
      ],
      "text/plain": [
       "             GHO (CODE)                                      GHO (DISPLAY)  \\\n",
       "0  MALARIA_IRS_COVERAGE  Number of people protected from malaria by ind...   \n",
       "1  MALARIA_IRS_COVERAGE  Number of people protected from malaria by ind...   \n",
       "2  MALARIA_IRS_COVERAGE  Number of people protected from malaria by ind...   \n",
       "3      MALARIA_PV_INDIG        Number of indigenous P. vivax malaria cases   \n",
       "4      MALARIA_PV_INDIG        Number of indigenous P. vivax malaria cases   \n",
       "\n",
       "   YEAR (CODE) REGION (CODE) REGION (DISPLAY) COUNTRY (CODE)  \\\n",
       "0         2018           AFR           Africa            ETH   \n",
       "1         2019           AFR           Africa            ETH   \n",
       "2         2020           AFR           Africa            ETH   \n",
       "3         2010           AFR           Africa            ETH   \n",
       "4         2011           AFR           Africa            ETH   \n",
       "\n",
       "  COUNTRY (DISPLAY)     Numeric  Low  High  \n",
       "0          Ethiopia  10486854.0  NaN   NaN  \n",
       "1          Ethiopia   7782034.0  NaN   NaN  \n",
       "2          Ethiopia   6349834.0  NaN   NaN  \n",
       "3          Ethiopia    390252.0  NaN   NaN  \n",
       "4          Ethiopia    665813.0  NaN   NaN  "
      ]
     },
     "execution_count": 3,
     "metadata": {},
     "output_type": "execute_result"
    }
   ],
   "source": [
    "df.head()"
   ]
  },
  {
   "cell_type": "code",
   "execution_count": 4,
   "metadata": {},
   "outputs": [],
   "source": [
    "df = df.drop(['Low', 'High'], axis=1)"
   ]
  },
  {
   "cell_type": "code",
   "execution_count": 5,
   "metadata": {},
   "outputs": [
    {
     "data": {
      "text/html": [
       "<div>\n",
       "<style scoped>\n",
       "    .dataframe tbody tr th:only-of-type {\n",
       "        vertical-align: middle;\n",
       "    }\n",
       "\n",
       "    .dataframe tbody tr th {\n",
       "        vertical-align: top;\n",
       "    }\n",
       "\n",
       "    .dataframe thead th {\n",
       "        text-align: right;\n",
       "    }\n",
       "</style>\n",
       "<table border=\"1\" class=\"dataframe\">\n",
       "  <thead>\n",
       "    <tr style=\"text-align: right;\">\n",
       "      <th></th>\n",
       "      <th>GHO (CODE)</th>\n",
       "      <th>GHO (DISPLAY)</th>\n",
       "      <th>YEAR (CODE)</th>\n",
       "      <th>REGION (CODE)</th>\n",
       "      <th>REGION (DISPLAY)</th>\n",
       "      <th>COUNTRY (CODE)</th>\n",
       "      <th>COUNTRY (DISPLAY)</th>\n",
       "      <th>Numeric</th>\n",
       "    </tr>\n",
       "  </thead>\n",
       "  <tbody>\n",
       "    <tr>\n",
       "      <th>0</th>\n",
       "      <td>MALARIA_IRS_COVERAGE</td>\n",
       "      <td>Number of people protected from malaria by ind...</td>\n",
       "      <td>2018</td>\n",
       "      <td>AFR</td>\n",
       "      <td>Africa</td>\n",
       "      <td>ETH</td>\n",
       "      <td>Ethiopia</td>\n",
       "      <td>10486854.0</td>\n",
       "    </tr>\n",
       "    <tr>\n",
       "      <th>1</th>\n",
       "      <td>MALARIA_IRS_COVERAGE</td>\n",
       "      <td>Number of people protected from malaria by ind...</td>\n",
       "      <td>2019</td>\n",
       "      <td>AFR</td>\n",
       "      <td>Africa</td>\n",
       "      <td>ETH</td>\n",
       "      <td>Ethiopia</td>\n",
       "      <td>7782034.0</td>\n",
       "    </tr>\n",
       "    <tr>\n",
       "      <th>2</th>\n",
       "      <td>MALARIA_IRS_COVERAGE</td>\n",
       "      <td>Number of people protected from malaria by ind...</td>\n",
       "      <td>2020</td>\n",
       "      <td>AFR</td>\n",
       "      <td>Africa</td>\n",
       "      <td>ETH</td>\n",
       "      <td>Ethiopia</td>\n",
       "      <td>6349834.0</td>\n",
       "    </tr>\n",
       "    <tr>\n",
       "      <th>3</th>\n",
       "      <td>MALARIA_PV_INDIG</td>\n",
       "      <td>Number of indigenous P. vivax malaria cases</td>\n",
       "      <td>2010</td>\n",
       "      <td>AFR</td>\n",
       "      <td>Africa</td>\n",
       "      <td>ETH</td>\n",
       "      <td>Ethiopia</td>\n",
       "      <td>390252.0</td>\n",
       "    </tr>\n",
       "    <tr>\n",
       "      <th>4</th>\n",
       "      <td>MALARIA_PV_INDIG</td>\n",
       "      <td>Number of indigenous P. vivax malaria cases</td>\n",
       "      <td>2011</td>\n",
       "      <td>AFR</td>\n",
       "      <td>Africa</td>\n",
       "      <td>ETH</td>\n",
       "      <td>Ethiopia</td>\n",
       "      <td>665813.0</td>\n",
       "    </tr>\n",
       "  </tbody>\n",
       "</table>\n",
       "</div>"
      ],
      "text/plain": [
       "             GHO (CODE)                                      GHO (DISPLAY)  \\\n",
       "0  MALARIA_IRS_COVERAGE  Number of people protected from malaria by ind...   \n",
       "1  MALARIA_IRS_COVERAGE  Number of people protected from malaria by ind...   \n",
       "2  MALARIA_IRS_COVERAGE  Number of people protected from malaria by ind...   \n",
       "3      MALARIA_PV_INDIG        Number of indigenous P. vivax malaria cases   \n",
       "4      MALARIA_PV_INDIG        Number of indigenous P. vivax malaria cases   \n",
       "\n",
       "   YEAR (CODE) REGION (CODE) REGION (DISPLAY) COUNTRY (CODE)  \\\n",
       "0         2018           AFR           Africa            ETH   \n",
       "1         2019           AFR           Africa            ETH   \n",
       "2         2020           AFR           Africa            ETH   \n",
       "3         2010           AFR           Africa            ETH   \n",
       "4         2011           AFR           Africa            ETH   \n",
       "\n",
       "  COUNTRY (DISPLAY)     Numeric  \n",
       "0          Ethiopia  10486854.0  \n",
       "1          Ethiopia   7782034.0  \n",
       "2          Ethiopia   6349834.0  \n",
       "3          Ethiopia    390252.0  \n",
       "4          Ethiopia    665813.0  "
      ]
     },
     "execution_count": 5,
     "metadata": {},
     "output_type": "execute_result"
    }
   ],
   "source": [
    "df.head()"
   ]
  },
  {
   "cell_type": "code",
   "execution_count": 6,
   "metadata": {},
   "outputs": [
    {
     "name": "stderr",
     "output_type": "stream",
     "text": [
      "/home/natinael/.local/lib/python3.10/site-packages/numpy/lib/nanfunctions.py:1215: RuntimeWarning: Mean of empty slice\n",
      "  return np.nanmean(a, axis, out=out, keepdims=keepdims)\n"
     ]
    }
   ],
   "source": [
    "summary_dict = {}\n",
    "\n",
    "for code in df['GHO (CODE)'].unique():\n",
    "    code_str = code.split()[0]\n",
    "    \n",
    "    subset = df[df['GHO (CODE)'] == code]\n",
    "    \n",
    "    gho_disp = subset['GHO (DISPLAY)'].apply(lambda x: re.sub(r'\\d+', '', x))\n",
    "    \n",
    "    mode_values = subset['Numeric'].mode()\n",
    "    mode_value = mode_values.iloc[0] if not mode_values.empty else None\n",
    "    mean_value = subset['Numeric'].mean()\n",
    "    median_value = subset['Numeric'].median()\n",
    "    \n",
    "    summary_dict[code_str] = {'GHO Display': gho_disp.unique()[0] , 'mode': mode_value, 'mean': mean_value, 'median': median_value}\n",
    "\n"
   ]
  },
  {
   "cell_type": "code",
   "execution_count": 7,
   "metadata": {},
   "outputs": [],
   "source": [
    "summary_df = pd.DataFrame(summary_dict).T"
   ]
  },
  {
   "cell_type": "code",
   "execution_count": 8,
   "metadata": {},
   "outputs": [
    {
     "data": {
      "text/html": [
       "<div>\n",
       "<style scoped>\n",
       "    .dataframe tbody tr th:only-of-type {\n",
       "        vertical-align: middle;\n",
       "    }\n",
       "\n",
       "    .dataframe tbody tr th {\n",
       "        vertical-align: top;\n",
       "    }\n",
       "\n",
       "    .dataframe thead th {\n",
       "        text-align: right;\n",
       "    }\n",
       "</style>\n",
       "<table border=\"1\" class=\"dataframe\">\n",
       "  <thead>\n",
       "    <tr style=\"text-align: right;\">\n",
       "      <th></th>\n",
       "      <th>GHO Display</th>\n",
       "      <th>mode</th>\n",
       "      <th>mean</th>\n",
       "      <th>median</th>\n",
       "    </tr>\n",
       "  </thead>\n",
       "  <tbody>\n",
       "    <tr>\n",
       "      <th>MALARIA_IRS_COVERAGE</th>\n",
       "      <td>Number of people protected from malaria by ind...</td>\n",
       "      <td>6349834.0</td>\n",
       "      <td>8206240.666667</td>\n",
       "      <td>7782034.0</td>\n",
       "    </tr>\n",
       "    <tr>\n",
       "      <th>MALARIA_PV_INDIG</th>\n",
       "      <td>Number of indigenous P. vivax malaria cases</td>\n",
       "      <td>102412.0</td>\n",
       "      <td>535206.0</td>\n",
       "      <td>576269.0</td>\n",
       "    </tr>\n",
       "    <tr>\n",
       "      <th>MALARIA_MICR_POS</th>\n",
       "      <td>Number of malaria positive cases by microscopy</td>\n",
       "      <td>904495.0</td>\n",
       "      <td>1623697.727273</td>\n",
       "      <td>1692578.0</td>\n",
       "    </tr>\n",
       "    <tr>\n",
       "      <th>MALARIA_EST_CASES</th>\n",
       "      <td>Estimated number of malaria cases</td>\n",
       "      <td>2645193.0</td>\n",
       "      <td>9656740.0</td>\n",
       "      <td>9642445.5</td>\n",
       "    </tr>\n",
       "    <tr>\n",
       "      <th>MALARIA_1STLINE_TREATED</th>\n",
       "      <td>Number of malaria cases treated with any first...</td>\n",
       "      <td>748601.0</td>\n",
       "      <td>1091939.75</td>\n",
       "      <td>1080177.0</td>\n",
       "    </tr>\n",
       "    <tr>\n",
       "      <th>MALARIA_ACT_TREATED</th>\n",
       "      <td>Number of malaria cases treated with artemisin...</td>\n",
       "      <td>836293.0</td>\n",
       "      <td>1053385.0</td>\n",
       "      <td>1126731.0</td>\n",
       "    </tr>\n",
       "    <tr>\n",
       "      <th>MALARIA_CONF_CASES</th>\n",
       "      <td>Number of confirmed malaria cases</td>\n",
       "      <td>392377.0</td>\n",
       "      <td>1145434.0</td>\n",
       "      <td>1036316.0</td>\n",
       "    </tr>\n",
       "    <tr>\n",
       "      <th>MALARIA_EST_DEATHS</th>\n",
       "      <td>Estimated number of malaria deaths</td>\n",
       "      <td>5708.0</td>\n",
       "      <td>17169.590909</td>\n",
       "      <td>17116.0</td>\n",
       "    </tr>\n",
       "    <tr>\n",
       "      <th>MALARIA_EST_INCIDENCE</th>\n",
       "      <td>Estimated malaria incidence (per  population a...</td>\n",
       "      <td>34.08666</td>\n",
       "      <td>166.676901</td>\n",
       "      <td>169.666185</td>\n",
       "    </tr>\n",
       "    <tr>\n",
       "      <th>MALARIA_EST_MORTALITY</th>\n",
       "      <td>Estimated malaria mortality rate (per   popula...</td>\n",
       "      <td>7.35548</td>\n",
       "      <td>29.496564</td>\n",
       "      <td>29.81824</td>\n",
       "    </tr>\n",
       "    <tr>\n",
       "      <th>MALARIA_INDIG</th>\n",
       "      <td>Number of indigenous malaria cases</td>\n",
       "      <td>904495.0</td>\n",
       "      <td>1604749.166667</td>\n",
       "      <td>1611658.5</td>\n",
       "    </tr>\n",
       "    <tr>\n",
       "      <th>MALARIA_INDIG_STATUS</th>\n",
       "      <td>Status of indigenous malaria cases</td>\n",
       "      <td>None</td>\n",
       "      <td>NaN</td>\n",
       "      <td>NaN</td>\n",
       "    </tr>\n",
       "    <tr>\n",
       "      <th>MALARIA_ITN_COVERAGE</th>\n",
       "      <td>Population with access to an insecticide-treat...</td>\n",
       "      <td>2.48968</td>\n",
       "      <td>16.713057</td>\n",
       "      <td>18.74099</td>\n",
       "    </tr>\n",
       "    <tr>\n",
       "      <th>MALARIA_MICR_TEST</th>\n",
       "      <td>Number of malaria suspects examined by microscopy</td>\n",
       "      <td>739627.0</td>\n",
       "      <td>3817164.0</td>\n",
       "      <td>3418719.0</td>\n",
       "    </tr>\n",
       "    <tr>\n",
       "      <th>MALARIA_PF_INDIG</th>\n",
       "      <td>Number of indigenous P. falciparum malaria cases</td>\n",
       "      <td>732776.0</td>\n",
       "      <td>1056056.166667</td>\n",
       "      <td>1003221.0</td>\n",
       "    </tr>\n",
       "    <tr>\n",
       "      <th>MALARIA_PRES_CASES</th>\n",
       "      <td>Number of presumed malaria cases</td>\n",
       "      <td>90607.0</td>\n",
       "      <td>1644013.619048</td>\n",
       "      <td>2074084.0</td>\n",
       "    </tr>\n",
       "    <tr>\n",
       "      <th>MALARIA_RDT_TEST</th>\n",
       "      <td>Number of malaria suspects examined by rapid d...</td>\n",
       "      <td>262877.0</td>\n",
       "      <td>262877.0</td>\n",
       "      <td>262877.0</td>\n",
       "    </tr>\n",
       "    <tr>\n",
       "      <th>MALARIA_SUSPECTS</th>\n",
       "      <td>Number of suspected malaria cases</td>\n",
       "      <td>2844963.0</td>\n",
       "      <td>5473909.0</td>\n",
       "      <td>5904132.0</td>\n",
       "    </tr>\n",
       "    <tr>\n",
       "      <th>MALARIA_TOTAL_CASES</th>\n",
       "      <td>Total number of  malaria cases (presumed + con...</td>\n",
       "      <td>1015792.0</td>\n",
       "      <td>2789447.619048</td>\n",
       "      <td>2557152.0</td>\n",
       "    </tr>\n",
       "  </tbody>\n",
       "</table>\n",
       "</div>"
      ],
      "text/plain": [
       "                                                               GHO Display  \\\n",
       "MALARIA_IRS_COVERAGE     Number of people protected from malaria by ind...   \n",
       "MALARIA_PV_INDIG               Number of indigenous P. vivax malaria cases   \n",
       "MALARIA_MICR_POS            Number of malaria positive cases by microscopy   \n",
       "MALARIA_EST_CASES                        Estimated number of malaria cases   \n",
       "MALARIA_1STLINE_TREATED  Number of malaria cases treated with any first...   \n",
       "MALARIA_ACT_TREATED      Number of malaria cases treated with artemisin...   \n",
       "MALARIA_CONF_CASES                       Number of confirmed malaria cases   \n",
       "MALARIA_EST_DEATHS                      Estimated number of malaria deaths   \n",
       "MALARIA_EST_INCIDENCE    Estimated malaria incidence (per  population a...   \n",
       "MALARIA_EST_MORTALITY    Estimated malaria mortality rate (per   popula...   \n",
       "MALARIA_INDIG                           Number of indigenous malaria cases   \n",
       "MALARIA_INDIG_STATUS                    Status of indigenous malaria cases   \n",
       "MALARIA_ITN_COVERAGE     Population with access to an insecticide-treat...   \n",
       "MALARIA_MICR_TEST        Number of malaria suspects examined by microscopy   \n",
       "MALARIA_PF_INDIG          Number of indigenous P. falciparum malaria cases   \n",
       "MALARIA_PRES_CASES                        Number of presumed malaria cases   \n",
       "MALARIA_RDT_TEST         Number of malaria suspects examined by rapid d...   \n",
       "MALARIA_SUSPECTS                         Number of suspected malaria cases   \n",
       "MALARIA_TOTAL_CASES      Total number of  malaria cases (presumed + con...   \n",
       "\n",
       "                              mode            mean      median  \n",
       "MALARIA_IRS_COVERAGE     6349834.0  8206240.666667   7782034.0  \n",
       "MALARIA_PV_INDIG          102412.0        535206.0    576269.0  \n",
       "MALARIA_MICR_POS          904495.0  1623697.727273   1692578.0  \n",
       "MALARIA_EST_CASES        2645193.0       9656740.0   9642445.5  \n",
       "MALARIA_1STLINE_TREATED   748601.0      1091939.75   1080177.0  \n",
       "MALARIA_ACT_TREATED       836293.0       1053385.0   1126731.0  \n",
       "MALARIA_CONF_CASES        392377.0       1145434.0   1036316.0  \n",
       "MALARIA_EST_DEATHS          5708.0    17169.590909     17116.0  \n",
       "MALARIA_EST_INCIDENCE     34.08666      166.676901  169.666185  \n",
       "MALARIA_EST_MORTALITY      7.35548       29.496564    29.81824  \n",
       "MALARIA_INDIG             904495.0  1604749.166667   1611658.5  \n",
       "MALARIA_INDIG_STATUS          None             NaN         NaN  \n",
       "MALARIA_ITN_COVERAGE       2.48968       16.713057    18.74099  \n",
       "MALARIA_MICR_TEST         739627.0       3817164.0   3418719.0  \n",
       "MALARIA_PF_INDIG          732776.0  1056056.166667   1003221.0  \n",
       "MALARIA_PRES_CASES         90607.0  1644013.619048   2074084.0  \n",
       "MALARIA_RDT_TEST          262877.0        262877.0    262877.0  \n",
       "MALARIA_SUSPECTS         2844963.0       5473909.0   5904132.0  \n",
       "MALARIA_TOTAL_CASES      1015792.0  2789447.619048   2557152.0  "
      ]
     },
     "execution_count": 8,
     "metadata": {},
     "output_type": "execute_result"
    }
   ],
   "source": [
    "summary_df"
   ]
  },
  {
   "cell_type": "code",
   "execution_count": 10,
   "metadata": {},
   "outputs": [
    {
     "name": "stdout",
     "output_type": "stream",
     "text": [
      "For GHO (CODE) MALARIA_IRS_COVERAGE:\n",
      "Year with the highest number of cases: 2018, Maximum value: 10486854.0\n",
      "Year with the lowest number of cases: 2020, Minimum value: 6349834.0\n",
      "\n",
      "For GHO (CODE) MALARIA_PV_INDIG:\n",
      "Year with the highest number of cases: 2013, Maximum value: 958291.0\n",
      "Year with the lowest number of cases: 2018, Minimum value: 102412.0\n",
      "\n",
      "For GHO (CODE) MALARIA_MICR_POS:\n",
      "Year with the highest number of cases: 2013, Maximum value: 2645454.0\n",
      "Year with the lowest number of cases: 2019, Minimum value: 904495.0\n",
      "\n",
      "For GHO (CODE) MALARIA_EST_CASES:\n",
      "Year with the highest number of cases: 2013, Maximum value: 15281540.0\n",
      "Year with the lowest number of cases: 2019, Minimum value: 2645193.0\n",
      "\n",
      "For GHO (CODE) MALARIA_1STLINE_TREATED:\n",
      "Year with the highest number of cases: 2020, Maximum value: 1458804.0\n",
      "Year with the lowest number of cases: 2018, Minimum value: 748601.0\n",
      "\n",
      "For GHO (CODE) MALARIA_ACT_TREATED:\n",
      "Year with the highest number of cases: 2020, Maximum value: 1197131.0\n",
      "Year with the lowest number of cases: 2019, Minimum value: 836293.0\n",
      "\n",
      "For GHO (CODE) MALARIA_CONF_CASES:\n",
      "Year with the highest number of cases: 2013, Maximum value: 2645454.0\n",
      "Year with the lowest number of cases: 2001, Minimum value: 392377.0\n",
      "\n",
      "For GHO (CODE) MALARIA_EST_DEATHS:\n",
      "Year with the highest number of cases: 2013, Maximum value: 27024.0\n",
      "Year with the lowest number of cases: 2019, Minimum value: 5708.0\n",
      "\n",
      "For GHO (CODE) MALARIA_EST_INCIDENCE:\n",
      "Year with the highest number of cases: 2000, Maximum value: 329.44041\n",
      "Year with the lowest number of cases: 2019, Minimum value: 34.08666\n",
      "\n",
      "For GHO (CODE) MALARIA_EST_MORTALITY:\n",
      "Year with the highest number of cases: 2000, Maximum value: 55.30293\n",
      "Year with the lowest number of cases: 2019, Minimum value: 7.35548\n",
      "\n",
      "For GHO (CODE) MALARIA_INDIG:\n",
      "Year with the highest number of cases: 2013, Maximum value: 2645454.0\n",
      "Year with the lowest number of cases: 2019, Minimum value: 904495.0\n",
      "\n",
      "For GHO (CODE) MALARIA_INDIG_STATUS:\n",
      "Year with the highest number of cases: None, Maximum value: 0\n",
      "Year with the lowest number of cases: None, Minimum value: inf\n",
      "\n",
      "For GHO (CODE) MALARIA_ITN_COVERAGE:\n",
      "Year with the highest number of cases: 2015, Maximum value: 38.99071\n",
      "Year with the lowest number of cases: 2005, Minimum value: 2.48968\n",
      "\n",
      "For GHO (CODE) MALARIA_MICR_TEST:\n",
      "Year with the highest number of cases: 2013, Maximum value: 8573335.0\n",
      "Year with the lowest number of cases: 2007, Minimum value: 739627.0\n",
      "\n",
      "For GHO (CODE) MALARIA_PF_INDIG:\n",
      "Year with the highest number of cases: 2013, Maximum value: 1687163.0\n",
      "Year with the lowest number of cases: 2010, Minimum value: 732776.0\n",
      "\n",
      "For GHO (CODE) MALARIA_PRES_CASES:\n",
      "Year with the highest number of cases: 2004, Maximum value: 4591710.0\n",
      "Year with the lowest number of cases: 2021, Minimum value: 90607.0\n",
      "\n",
      "For GHO (CODE) MALARIA_RDT_TEST:\n",
      "Year with the highest number of cases: 2009, Maximum value: 262877.0\n",
      "Year with the lowest number of cases: 2009, Minimum value: 262877.0\n",
      "\n",
      "For GHO (CODE) MALARIA_SUSPECTS:\n",
      "Year with the highest number of cases: 2013, Maximum value: 9243894.0\n",
      "Year with the lowest number of cases: 2007, Minimum value: 2844963.0\n",
      "\n",
      "For GHO (CODE) MALARIA_TOTAL_CASES:\n",
      "Year with the highest number of cases: 2004, Maximum value: 5170614.0\n",
      "Year with the lowest number of cases: 2019, Minimum value: 1015792.0\n",
      "\n"
     ]
    }
   ],
   "source": [
    "extreme_values = {}\n",
    "\n",
    "for code in df['GHO (CODE)'].unique():\n",
    "    subset = df[df['GHO (CODE)'] == code]\n",
    "    max_value = 0\n",
    "    min_value = float('inf')\n",
    "    year_max_value = None\n",
    "    year_min_value = None\n",
    "    \n",
    "    for index, row in subset.iterrows():\n",
    "        if row['Numeric'] > max_value:\n",
    "            max_value = row['Numeric']\n",
    "            year_max_value = row['YEAR (CODE)']\n",
    "        \n",
    "        if row['Numeric'] < min_value:\n",
    "            min_value = row['Numeric']\n",
    "            year_min_value = row['YEAR (CODE)']\n",
    "    \n",
    "    extreme_values[code] = {'max_value': max_value, 'year_max_value': year_max_value, 'min_value': min_value, 'year_min_value': year_min_value}\n",
    "\n",
    "for code, values in extreme_values.items():\n",
    "    print(f\"For GHO (CODE) {code}:\")\n",
    "    print(f\"Year with the highest number of cases: {values['year_max_value']}, Maximum value: {values['max_value']}\")\n",
    "    print(f\"Year with the lowest number of cases: {values['year_min_value']}, Minimum value: {values['min_value']}\")\n",
    "    print()\n"
   ]
  },
  {
   "cell_type": "code",
   "execution_count": 11,
   "metadata": {},
   "outputs": [],
   "source": [
    "summary_df_extr = pd.DataFrame(extreme_values).T"
   ]
  },
  {
   "cell_type": "code",
   "execution_count": 12,
   "metadata": {},
   "outputs": [
    {
     "data": {
      "text/html": [
       "<div>\n",
       "<style scoped>\n",
       "    .dataframe tbody tr th:only-of-type {\n",
       "        vertical-align: middle;\n",
       "    }\n",
       "\n",
       "    .dataframe tbody tr th {\n",
       "        vertical-align: top;\n",
       "    }\n",
       "\n",
       "    .dataframe thead th {\n",
       "        text-align: right;\n",
       "    }\n",
       "</style>\n",
       "<table border=\"1\" class=\"dataframe\">\n",
       "  <thead>\n",
       "    <tr style=\"text-align: right;\">\n",
       "      <th></th>\n",
       "      <th>max_value</th>\n",
       "      <th>year_max_value</th>\n",
       "      <th>min_value</th>\n",
       "      <th>year_min_value</th>\n",
       "    </tr>\n",
       "  </thead>\n",
       "  <tbody>\n",
       "    <tr>\n",
       "      <th>MALARIA_IRS_COVERAGE</th>\n",
       "      <td>1.048685e+07</td>\n",
       "      <td>2018.0</td>\n",
       "      <td>6.349834e+06</td>\n",
       "      <td>2020.0</td>\n",
       "    </tr>\n",
       "    <tr>\n",
       "      <th>MALARIA_PV_INDIG</th>\n",
       "      <td>9.582910e+05</td>\n",
       "      <td>2013.0</td>\n",
       "      <td>1.024120e+05</td>\n",
       "      <td>2018.0</td>\n",
       "    </tr>\n",
       "    <tr>\n",
       "      <th>MALARIA_MICR_POS</th>\n",
       "      <td>2.645454e+06</td>\n",
       "      <td>2013.0</td>\n",
       "      <td>9.044950e+05</td>\n",
       "      <td>2019.0</td>\n",
       "    </tr>\n",
       "    <tr>\n",
       "      <th>MALARIA_EST_CASES</th>\n",
       "      <td>1.528154e+07</td>\n",
       "      <td>2013.0</td>\n",
       "      <td>2.645193e+06</td>\n",
       "      <td>2019.0</td>\n",
       "    </tr>\n",
       "    <tr>\n",
       "      <th>MALARIA_1STLINE_TREATED</th>\n",
       "      <td>1.458804e+06</td>\n",
       "      <td>2020.0</td>\n",
       "      <td>7.486010e+05</td>\n",
       "      <td>2018.0</td>\n",
       "    </tr>\n",
       "    <tr>\n",
       "      <th>MALARIA_ACT_TREATED</th>\n",
       "      <td>1.197131e+06</td>\n",
       "      <td>2020.0</td>\n",
       "      <td>8.362930e+05</td>\n",
       "      <td>2019.0</td>\n",
       "    </tr>\n",
       "    <tr>\n",
       "      <th>MALARIA_CONF_CASES</th>\n",
       "      <td>2.645454e+06</td>\n",
       "      <td>2013.0</td>\n",
       "      <td>3.923770e+05</td>\n",
       "      <td>2001.0</td>\n",
       "    </tr>\n",
       "    <tr>\n",
       "      <th>MALARIA_EST_DEATHS</th>\n",
       "      <td>2.702400e+04</td>\n",
       "      <td>2013.0</td>\n",
       "      <td>5.708000e+03</td>\n",
       "      <td>2019.0</td>\n",
       "    </tr>\n",
       "    <tr>\n",
       "      <th>MALARIA_EST_INCIDENCE</th>\n",
       "      <td>3.294404e+02</td>\n",
       "      <td>2000.0</td>\n",
       "      <td>3.408666e+01</td>\n",
       "      <td>2019.0</td>\n",
       "    </tr>\n",
       "    <tr>\n",
       "      <th>MALARIA_EST_MORTALITY</th>\n",
       "      <td>5.530293e+01</td>\n",
       "      <td>2000.0</td>\n",
       "      <td>7.355480e+00</td>\n",
       "      <td>2019.0</td>\n",
       "    </tr>\n",
       "    <tr>\n",
       "      <th>MALARIA_INDIG</th>\n",
       "      <td>2.645454e+06</td>\n",
       "      <td>2013.0</td>\n",
       "      <td>9.044950e+05</td>\n",
       "      <td>2019.0</td>\n",
       "    </tr>\n",
       "    <tr>\n",
       "      <th>MALARIA_INDIG_STATUS</th>\n",
       "      <td>0.000000e+00</td>\n",
       "      <td>NaN</td>\n",
       "      <td>inf</td>\n",
       "      <td>NaN</td>\n",
       "    </tr>\n",
       "    <tr>\n",
       "      <th>MALARIA_ITN_COVERAGE</th>\n",
       "      <td>3.899071e+01</td>\n",
       "      <td>2015.0</td>\n",
       "      <td>2.489680e+00</td>\n",
       "      <td>2005.0</td>\n",
       "    </tr>\n",
       "    <tr>\n",
       "      <th>MALARIA_MICR_TEST</th>\n",
       "      <td>8.573335e+06</td>\n",
       "      <td>2013.0</td>\n",
       "      <td>7.396270e+05</td>\n",
       "      <td>2007.0</td>\n",
       "    </tr>\n",
       "    <tr>\n",
       "      <th>MALARIA_PF_INDIG</th>\n",
       "      <td>1.687163e+06</td>\n",
       "      <td>2013.0</td>\n",
       "      <td>7.327760e+05</td>\n",
       "      <td>2010.0</td>\n",
       "    </tr>\n",
       "    <tr>\n",
       "      <th>MALARIA_PRES_CASES</th>\n",
       "      <td>4.591710e+06</td>\n",
       "      <td>2004.0</td>\n",
       "      <td>9.060700e+04</td>\n",
       "      <td>2021.0</td>\n",
       "    </tr>\n",
       "    <tr>\n",
       "      <th>MALARIA_RDT_TEST</th>\n",
       "      <td>2.628770e+05</td>\n",
       "      <td>2009.0</td>\n",
       "      <td>2.628770e+05</td>\n",
       "      <td>2009.0</td>\n",
       "    </tr>\n",
       "    <tr>\n",
       "      <th>MALARIA_SUSPECTS</th>\n",
       "      <td>9.243894e+06</td>\n",
       "      <td>2013.0</td>\n",
       "      <td>2.844963e+06</td>\n",
       "      <td>2007.0</td>\n",
       "    </tr>\n",
       "    <tr>\n",
       "      <th>MALARIA_TOTAL_CASES</th>\n",
       "      <td>5.170614e+06</td>\n",
       "      <td>2004.0</td>\n",
       "      <td>1.015792e+06</td>\n",
       "      <td>2019.0</td>\n",
       "    </tr>\n",
       "  </tbody>\n",
       "</table>\n",
       "</div>"
      ],
      "text/plain": [
       "                            max_value  year_max_value     min_value  \\\n",
       "MALARIA_IRS_COVERAGE     1.048685e+07          2018.0  6.349834e+06   \n",
       "MALARIA_PV_INDIG         9.582910e+05          2013.0  1.024120e+05   \n",
       "MALARIA_MICR_POS         2.645454e+06          2013.0  9.044950e+05   \n",
       "MALARIA_EST_CASES        1.528154e+07          2013.0  2.645193e+06   \n",
       "MALARIA_1STLINE_TREATED  1.458804e+06          2020.0  7.486010e+05   \n",
       "MALARIA_ACT_TREATED      1.197131e+06          2020.0  8.362930e+05   \n",
       "MALARIA_CONF_CASES       2.645454e+06          2013.0  3.923770e+05   \n",
       "MALARIA_EST_DEATHS       2.702400e+04          2013.0  5.708000e+03   \n",
       "MALARIA_EST_INCIDENCE    3.294404e+02          2000.0  3.408666e+01   \n",
       "MALARIA_EST_MORTALITY    5.530293e+01          2000.0  7.355480e+00   \n",
       "MALARIA_INDIG            2.645454e+06          2013.0  9.044950e+05   \n",
       "MALARIA_INDIG_STATUS     0.000000e+00             NaN           inf   \n",
       "MALARIA_ITN_COVERAGE     3.899071e+01          2015.0  2.489680e+00   \n",
       "MALARIA_MICR_TEST        8.573335e+06          2013.0  7.396270e+05   \n",
       "MALARIA_PF_INDIG         1.687163e+06          2013.0  7.327760e+05   \n",
       "MALARIA_PRES_CASES       4.591710e+06          2004.0  9.060700e+04   \n",
       "MALARIA_RDT_TEST         2.628770e+05          2009.0  2.628770e+05   \n",
       "MALARIA_SUSPECTS         9.243894e+06          2013.0  2.844963e+06   \n",
       "MALARIA_TOTAL_CASES      5.170614e+06          2004.0  1.015792e+06   \n",
       "\n",
       "                         year_min_value  \n",
       "MALARIA_IRS_COVERAGE             2020.0  \n",
       "MALARIA_PV_INDIG                 2018.0  \n",
       "MALARIA_MICR_POS                 2019.0  \n",
       "MALARIA_EST_CASES                2019.0  \n",
       "MALARIA_1STLINE_TREATED          2018.0  \n",
       "MALARIA_ACT_TREATED              2019.0  \n",
       "MALARIA_CONF_CASES               2001.0  \n",
       "MALARIA_EST_DEATHS               2019.0  \n",
       "MALARIA_EST_INCIDENCE            2019.0  \n",
       "MALARIA_EST_MORTALITY            2019.0  \n",
       "MALARIA_INDIG                    2019.0  \n",
       "MALARIA_INDIG_STATUS                NaN  \n",
       "MALARIA_ITN_COVERAGE             2005.0  \n",
       "MALARIA_MICR_TEST                2007.0  \n",
       "MALARIA_PF_INDIG                 2010.0  \n",
       "MALARIA_PRES_CASES               2021.0  \n",
       "MALARIA_RDT_TEST                 2009.0  \n",
       "MALARIA_SUSPECTS                 2007.0  \n",
       "MALARIA_TOTAL_CASES              2019.0  "
      ]
     },
     "execution_count": 12,
     "metadata": {},
     "output_type": "execute_result"
    }
   ],
   "source": [
    "summary_df_extr"
   ]
  },
  {
   "cell_type": "code",
   "execution_count": 13,
   "metadata": {},
   "outputs": [
    {
     "data": {
      "image/png": "[encoded data removed]",
      "text/plain": [
       "<Figure size 1000x600 with 1 Axes>"
      ]
     },
     "metadata": {},
     "output_type": "display_data"
    }
   ],
   "source": [
    "\n",
    "codes = list(extreme_values.keys())\n",
    "max_values = [values['max_value'] for values in extreme_values.values()]\n",
    "min_values = [values['min_value'] for values in extreme_values.values()]\n",
    "\n",
    "plt.figure(figsize=(10, 6))\n",
    "plt.bar(codes, max_values, color='skyblue', label='Maximum Value')\n",
    "plt.bar(codes, min_values, color='orange', alpha=0.5, label='Minimum Value')\n",
    "\n",
    "plt.xlabel('GHO (CODE)')\n",
    "plt.ylabel('Number of Cases')\n",
    "plt.title('Extreme Values for Each GHO (CODE)')\n",
    "plt.legend()\n",
    "\n",
    "plt.xticks(rotation=90)\n",
    "\n",
    "plt.tight_layout()\n",
    "plt.show()\n"
   ]
  },
  {
   "cell_type": "code",
   "execution_count": 14,
   "metadata": {},
   "outputs": [
    {
     "data": {
      "application/vnd.plotly.v1+json": {
       "config": {
        "plotlyServerURL": "https://plot.ly"
       },
       "data": [
        {
         "hoverinfo": "text",
         "marker": {
          "color": "skyblue"
         },
         "mode": "markers",
         "name": "Maximum Value",
         "text": [
          "Maximum Value: 10486854.0<br>Year: 2018",
          "Maximum Value: 958291.0<br>Year: 2013",
          "Maximum Value: 2645454.0<br>Year: 2013",
          "Maximum Value: 15281540.0<br>Year: 2013",
          "Maximum Value: 1458804.0<br>Year: 2020",
          "Maximum Value: 1197131.0<br>Year: 2020",
          "Maximum Value: 2645454.0<br>Year: 2013",
          "Maximum Value: 27024.0<br>Year: 2013",
          "Maximum Value: 329.44041<br>Year: 2000",
          "Maximum Value: 55.30293<br>Year: 2000",
          "Maximum Value: 2645454.0<br>Year: 2013",
          "Maximum Value: 0<br>Year: None",
          "Maximum Value: 38.99071<br>Year: 2015",
          "Maximum Value: 8573335.0<br>Year: 2013",
          "Maximum Value: 1687163.0<br>Year: 2013",
          "Maximum Value: 4591710.0<br>Year: 2004",
          "Maximum Value: 262877.0<br>Year: 2009",
          "Maximum Value: 9243894.0<br>Year: 2013",
          "Maximum Value: 5170614.0<br>Year: 2004"
         ],
         "type": "scatter",
         "x": [
          "MALARIA_IRS_COVERAGE",
          "MALARIA_PV_INDIG",
          "MALARIA_MICR_POS",
          "MALARIA_EST_CASES",
          "MALARIA_1STLINE_TREATED",
          "MALARIA_ACT_TREATED",
          "MALARIA_CONF_CASES",
          "MALARIA_EST_DEATHS",
          "MALARIA_EST_INCIDENCE",
          "MALARIA_EST_MORTALITY",
          "MALARIA_INDIG",
          "MALARIA_INDIG_STATUS",
          "MALARIA_ITN_COVERAGE",
          "MALARIA_MICR_TEST",
          "MALARIA_PF_INDIG",
          "MALARIA_PRES_CASES",
          "MALARIA_RDT_TEST",
          "MALARIA_SUSPECTS",
          "MALARIA_TOTAL_CASES"
         ],
         "y": [
          10486854,
          958291,
          2645454,
          15281540,
          1458804,
          1197131,
          2645454,
          27024,
          329.44041,
          55.30293,
          2645454,
          0,
          38.99071,
          8573335,
          1687163,
          4591710,
          262877,
          9243894,
          5170614
         ]
        },
        {
         "hoverinfo": "text",
         "marker": {
          "color": "orange"
         },
         "mode": "markers",
         "name": "Minimum Value",
         "text": [
          "Minimum Value: 6349834.0<br>Year: 2020",
          "Minimum Value: 102412.0<br>Year: 2018",
          "Minimum Value: 904495.0<br>Year: 2019",
          "Minimum Value: 2645193.0<br>Year: 2019",
          "Minimum Value: 748601.0<br>Year: 2018",
          "Minimum Value: 836293.0<br>Year: 2019",
          "Minimum Value: 392377.0<br>Year: 2001",
          "Minimum Value: 5708.0<br>Year: 2019",
          "Minimum Value: 34.08666<br>Year: 2019",
          "Minimum Value: 7.35548<br>Year: 2019",
          "Minimum Value: 904495.0<br>Year: 2019",
          "Minimum Value: inf<br>Year: None",
          "Minimum Value: 2.48968<br>Year: 2005",
          "Minimum Value: 739627.0<br>Year: 2007",
          "Minimum Value: 732776.0<br>Year: 2010",
          "Minimum Value: 90607.0<br>Year: 2021",
          "Minimum Value: 262877.0<br>Year: 2009",
          "Minimum Value: 2844963.0<br>Year: 2007",
          "Minimum Value: 1015792.0<br>Year: 2019"
         ],
         "type": "scatter",
         "x": [
          "MALARIA_IRS_COVERAGE",
          "MALARIA_PV_INDIG",
          "MALARIA_MICR_POS",
          "MALARIA_EST_CASES",
          "MALARIA_1STLINE_TREATED",
          "MALARIA_ACT_TREATED",
          "MALARIA_CONF_CASES",
          "MALARIA_EST_DEATHS",
          "MALARIA_EST_INCIDENCE",
          "MALARIA_EST_MORTALITY",
          "MALARIA_INDIG",
          "MALARIA_INDIG_STATUS",
          "MALARIA_ITN_COVERAGE",
          "MALARIA_MICR_TEST",
          "MALARIA_PF_INDIG",
          "MALARIA_PRES_CASES",
          "MALARIA_RDT_TEST",
          "MALARIA_SUSPECTS",
          "MALARIA_TOTAL_CASES"
         ],
         "y": [
          6349834,
          102412,
          904495,
          2645193,
          748601,
          836293,
          392377,
          5708,
          34.08666,
          7.35548,
          904495,
          null,
          2.48968,
          739627,
          732776,
          90607,
          262877,
          2844963,
          1015792
         ]
        }
       ],
       "layout": {
        "template": {
         "data": {
          "bar": [
           {
            "error_x": {
             "color": "#2a3f5f"
            },
            "error_y": {
             "color": "#2a3f5f"
            },
            "marker": {
             "line": {
              "color": "#E5ECF6",
              "width": 0.5
             },
             "pattern": {
              "fillmode": "overlay",
              "size": 10,
              "solidity": 0.2
             }
            },
            "type": "bar"
           }
          ],
          "barpolar": [
           {
            "marker": {
             "line": {
              "color": "#E5ECF6",
              "width": 0.5
             },
             "pattern": {
              "fillmode": "overlay",
              "size": 10,
              "solidity": 0.2
             }
            },
            "type": "barpolar"
           }
          ],
          "carpet": [
           {
            "aaxis": {
             "endlinecolor": "#2a3f5f",
             "gridcolor": "white",
             "linecolor": "white",
             "minorgridcolor": "white",
             "startlinecolor": "#2a3f5f"
            },
            "baxis": {
             "endlinecolor": "#2a3f5f",
             "gridcolor": "white",
             "linecolor": "white",
             "minorgridcolor": "white",
             "startlinecolor": "#2a3f5f"
            },
            "type": "carpet"
           }
          ],
          "choropleth": [
           {
            "colorbar": {
             "outlinewidth": 0,
             "ticks": ""
            },
            "type": "choropleth"
           }
          ],
          "contour": [
           {
            "colorbar": {
             "outlinewidth": 0,
             "ticks": ""
            },
            "colorscale": [
             [
              0,
              "#0d0887"
             ],
             [
              0.1111111111111111,
              "#46039f"
             ],
             [
              0.2222222222222222,
              "#7201a8"
             ],
             [
              0.3333333333333333,
              "#9c179e"
             ],
             [
              0.4444444444444444,
              "#bd3786"
             ],
             [
              0.5555555555555556,
              "#d8576b"
             ],
             [
              0.6666666666666666,
              "#ed7953"
             ],
             [
              0.7777777777777778,
              "#fb9f3a"
             ],
             [
              0.8888888888888888,
              "#fdca26"
             ],
             [
              1,
              "#f0f921"
             ]
            ],
            "type": "contour"
           }
          ],
          "contourcarpet": [
           {
            "colorbar": {
             "outlinewidth": 0,
             "ticks": ""
            },
            "type": "contourcarpet"
           }
          ],
          "heatmap": [
           {
            "colorbar": {
             "outlinewidth": 0,
             "ticks": ""
            },
            "colorscale": [
             [
              0,
              "#0d0887"
             ],
             [
              0.1111111111111111,
              "#46039f"
             ],
             [
              0.2222222222222222,
              "#7201a8"
             ],
             [
              0.3333333333333333,
              "#9c179e"
             ],
             [
              0.4444444444444444,
              "#bd3786"
             ],
             [
              0.5555555555555556,
              "#d8576b"
             ],
             [
              0.6666666666666666,
              "#ed7953"
             ],
             [
              0.7777777777777778,
              "#fb9f3a"
             ],
             [
              0.8888888888888888,
              "#fdca26"
             ],
             [
              1,
              "#f0f921"
             ]
            ],
            "type": "heatmap"
           }
          ],
          "heatmapgl": [
           {
            "colorbar": {
             "outlinewidth": 0,
             "ticks": ""
            },
            "colorscale": [
             [
              0,
              "#0d0887"
             ],
             [
              0.1111111111111111,
              "#46039f"
             ],
             [
              0.2222222222222222,
              "#7201a8"
             ],
             [
              0.3333333333333333,
              "#9c179e"
             ],
             [
              0.4444444444444444,
              "#bd3786"
             ],
             [
              0.5555555555555556,
              "#d8576b"
             ],
             [
              0.6666666666666666,
              "#ed7953"
             ],
             [
              0.7777777777777778,
              "#fb9f3a"
             ],
             [
              0.8888888888888888,
              "#fdca26"
             ],
             [
              1,
              "#f0f921"
             ]
            ],
            "type": "heatmapgl"
           }
          ],
          "histogram": [
           {
            "marker": {
             "pattern": {
              "fillmode": "overlay",
              "size": 10,
              "solidity": 0.2
             }
            },
            "type": "histogram"
           }
          ],
          "histogram2d": [
           {
            "colorbar": {
             "outlinewidth": 0,
             "ticks": ""
            },
            "colorscale": [
             [
              0,
              "#0d0887"
             ],
             [
              0.1111111111111111,
              "#46039f"
             ],
             [
              0.2222222222222222,
              "#7201a8"
             ],
             [
              0.3333333333333333,
              "#9c179e"
             ],
             [
              0.4444444444444444,
              "#bd3786"
             ],
             [
              0.5555555555555556,
              "#d8576b"
             ],
             [
              0.6666666666666666,
              "#ed7953"
             ],
             [
              0.7777777777777778,
              "#fb9f3a"
             ],
             [
              0.8888888888888888,
              "#fdca26"
             ],
             [
              1,
              "#f0f921"
             ]
            ],
            "type": "histogram2d"
           }
          ],
          "histogram2dcontour": [
           {
            "colorbar": {
             "outlinewidth": 0,
             "ticks": ""
            },
            "colorscale": [
             [
              0,
              "#0d0887"
             ],
             [
              0.1111111111111111,
              "#46039f"
             ],
             [
              0.2222222222222222,
              "#7201a8"
             ],
             [
              0.3333333333333333,
              "#9c179e"
             ],
             [
              0.4444444444444444,
              "#bd3786"
             ],
             [
              0.5555555555555556,
              "#d8576b"
             ],
             [
              0.6666666666666666,
              "#ed7953"
             ],
             [
              0.7777777777777778,
              "#fb9f3a"
             ],
             [
              0.8888888888888888,
              "#fdca26"
             ],
             [
              1,
              "#f0f921"
             ]
            ],
            "type": "histogram2dcontour"
           }
          ],
          "mesh3d": [
           {
            "colorbar": {
             "outlinewidth": 0,
             "ticks": ""
            },
            "type": "mesh3d"
           }
          ],
          "parcoords": [
           {
            "line": {
             "colorbar": {
              "outlinewidth": 0,
              "ticks": ""
             }
            },
            "type": "parcoords"
           }
          ],
          "pie": [
           {
            "automargin": true,
            "type": "pie"
           }
          ],
          "scatter": [
           {
            "fillpattern": {
             "fillmode": "overlay",
             "size": 10,
             "solidity": 0.2
            },
            "type": "scatter"
           }
          ],
          "scatter3d": [
           {
            "line": {
             "colorbar": {
              "outlinewidth": 0,
              "ticks": ""
             }
            },
            "marker": {
             "colorbar": {
              "outlinewidth": 0,
              "ticks": ""
             }
            },
            "type": "scatter3d"
           }
          ],
          "scattercarpet": [
           {
            "marker": {
             "colorbar": {
              "outlinewidth": 0,
              "ticks": ""
             }
            },
            "type": "scattercarpet"
           }
          ],
          "scattergeo": [
           {
            "marker": {
             "colorbar": {
              "outlinewidth": 0,
              "ticks": ""
             }
            },
            "type": "scattergeo"
           }
          ],
          "scattergl": [
           {
            "marker": {
             "colorbar": {
              "outlinewidth": 0,
              "ticks": ""
             }
            },
            "type": "scattergl"
           }
          ],
          "scattermapbox": [
           {
            "marker": {
             "colorbar": {
              "outlinewidth": 0,
              "ticks": ""
             }
            },
            "type": "scattermapbox"
           }
          ],
          "scatterpolar": [
           {
            "marker": {
             "colorbar": {
              "outlinewidth": 0,
              "ticks": ""
             }
            },
            "type": "scatterpolar"
           }
          ],
          "scatterpolargl": [
           {
            "marker": {
             "colorbar": {
              "outlinewidth": 0,
              "ticks": ""
             }
            },
            "type": "scatterpolargl"
           }
          ],
          "scatterternary": [
           {
            "marker": {
             "colorbar": {
              "outlinewidth": 0,
              "ticks": ""
             }
            },
            "type": "scatterternary"
           }
          ],
          "surface": [
           {
            "colorbar": {
             "outlinewidth": 0,
             "ticks": ""
            },
            "colorscale": [
             [
              0,
              "#0d0887"
             ],
             [
              0.1111111111111111,
              "#46039f"
             ],
             [
              0.2222222222222222,
              "#7201a8"
             ],
             [
              0.3333333333333333,
              "#9c179e"
             ],
             [
              0.4444444444444444,
              "#bd3786"
             ],
             [
              0.5555555555555556,
              "#d8576b"
             ],
             [
              0.6666666666666666,
              "#ed7953"
             ],
             [
              0.7777777777777778,
              "#fb9f3a"
             ],
             [
              0.8888888888888888,
              "#fdca26"
             ],
             [
              1,
              "#f0f921"
             ]
            ],
            "type": "surface"
           }
          ],
          "table": [
           {
            "cells": {
             "fill": {
              "color": "#EBF0F8"
             },
             "line": {
              "color": "white"
             }
            },
            "header": {
             "fill": {
              "color": "#C8D4E3"
             },
             "line": {
              "color": "white"
             }
            },
            "type": "table"
           }
          ]
         },
         "layout": {
          "annotationdefaults": {
           "arrowcolor": "#2a3f5f",
           "arrowhead": 0,
           "arrowwidth": 1
          },
          "autotypenumbers": "strict",
          "coloraxis": {
           "colorbar": {
            "outlinewidth": 0,
            "ticks": ""
           }
          },
          "colorscale": {
           "diverging": [
            [
             0,
             "#8e0152"
            ],
            [
             0.1,
             "#c51b7d"
            ],
            [
             0.2,
             "#de77ae"
            ],
            [
             0.3,
             "#f1b6da"
            ],
            [
             0.4,
             "#fde0ef"
            ],
            [
             0.5,
             "#f7f7f7"
            ],
            [
             0.6,
             "#e6f5d0"
            ],
            [
             0.7,
             "#b8e186"
            ],
            [
             0.8,
             "#7fbc41"
            ],
            [
             0.9,
             "#4d9221"
            ],
            [
             1,
             "#276419"
            ]
           ],
           "sequential": [
            [
             0,
             "#0d0887"
            ],
            [
             0.1111111111111111,
             "#46039f"
            ],
            [
             0.2222222222222222,
             "#7201a8"
            ],
            [
             0.3333333333333333,
             "#9c179e"
            ],
            [
             0.4444444444444444,
             "#bd3786"
            ],
            [
             0.5555555555555556,
             "#d8576b"
            ],
            [
             0.6666666666666666,
             "#ed7953"
            ],
            [
             0.7777777777777778,
             "#fb9f3a"
            ],
            [
             0.8888888888888888,
             "#fdca26"
            ],
            [
             1,
             "#f0f921"
            ]
           ],
           "sequentialminus": [
            [
             0,
             "#0d0887"
            ],
            [
             0.1111111111111111,
             "#46039f"
            ],
            [
             0.2222222222222222,
             "#7201a8"
            ],
            [
             0.3333333333333333,
             "#9c179e"
            ],
            [
             0.4444444444444444,
             "#bd3786"
            ],
            [
             0.5555555555555556,
             "#d8576b"
            ],
            [
             0.6666666666666666,
             "#ed7953"
            ],
            [
             0.7777777777777778,
             "#fb9f3a"
            ],
            [
             0.8888888888888888,
             "#fdca26"
            ],
            [
             1,
             "#f0f921"
            ]
           ]
          },
          "colorway": [
           "#636efa",
           "#EF553B",
           "#00cc96",
           "#ab63fa",
           "#FFA15A",
           "#19d3f3",
           "#FF6692",
           "#B6E880",
           "#FF97FF",
           "#FECB52"
          ],
          "font": {
           "color": "#2a3f5f"
          },
          "geo": {
           "bgcolor": "white",
           "lakecolor": "white",
           "landcolor": "#E5ECF6",
           "showlakes": true,
           "showland": true,
           "subunitcolor": "white"
          },
          "hoverlabel": {
           "align": "left"
          },
          "hovermode": "closest",
          "mapbox": {
           "style": "light"
          },
          "paper_bgcolor": "white",
          "plot_bgcolor": "#E5ECF6",
          "polar": {
           "angularaxis": {
            "gridcolor": "white",
            "linecolor": "white",
            "ticks": ""
           },
           "bgcolor": "#E5ECF6",
           "radialaxis": {
            "gridcolor": "white",
            "linecolor": "white",
            "ticks": ""
           }
          },
          "scene": {
           "xaxis": {
            "backgroundcolor": "#E5ECF6",
            "gridcolor": "white",
            "gridwidth": 2,
            "linecolor": "white",
            "showbackground": true,
            "ticks": "",
            "zerolinecolor": "white"
           },
           "yaxis": {
            "backgroundcolor": "#E5ECF6",
            "gridcolor": "white",
            "gridwidth": 2,
            "linecolor": "white",
            "showbackground": true,
            "ticks": "",
            "zerolinecolor": "white"
           },
           "zaxis": {
            "backgroundcolor": "#E5ECF6",
            "gridcolor": "white",
            "gridwidth": 2,
            "linecolor": "white",
            "showbackground": true,
            "ticks": "",
            "zerolinecolor": "white"
           }
          },
          "shapedefaults": {
           "line": {
            "color": "#2a3f5f"
           }
          },
          "ternary": {
           "aaxis": {
            "gridcolor": "white",
            "linecolor": "white",
            "ticks": ""
           },
           "baxis": {
            "gridcolor": "white",
            "linecolor": "white",
            "ticks": ""
           },
           "bgcolor": "#E5ECF6",
           "caxis": {
            "gridcolor": "white",
            "linecolor": "white",
            "ticks": ""
           }
          },
          "title": {
           "x": 0.05
          },
          "xaxis": {
           "automargin": true,
           "gridcolor": "white",
           "linecolor": "white",
           "ticks": "",
           "title": {
            "standoff": 15
           },
           "zerolinecolor": "white",
           "zerolinewidth": 2
          },
          "yaxis": {
           "automargin": true,
           "gridcolor": "white",
           "linecolor": "white",
           "ticks": "",
           "title": {
            "standoff": 15
           },
           "zerolinecolor": "white",
           "zerolinewidth": 2
          }
         }
        },
        "title": {
         "text": "Extreme Values for Each GHO (CODE) by Year"
        },
        "xaxis": {
         "title": {
          "text": "GHO (CODE)"
         }
        },
        "yaxis": {
         "title": {
          "text": "Number of Cases"
         }
        }
       }
      }
     },
     "metadata": {},
     "output_type": "display_data"
    }
   ],
   "source": [
    "\n",
    "# hover text with year information\n",
    "max_hover_text = [f'Maximum Value: {max_val}<br>Year: {extreme_values[code][\"year_max_value\"]}' for code, max_val in zip(codes, max_values)]\n",
    "min_hover_text = [f'Minimum Value: {min_val}<br>Year: {extreme_values[code][\"year_min_value\"]}' for code, min_val in zip(codes, min_values)]\n",
    "\n",
    "# traces for hover text\n",
    "max_trace = go.Scatter(x=codes, y=max_values, mode='markers', name='Maximum Value',\n",
    "                       marker=dict(color='skyblue'), text=max_hover_text, hoverinfo='text')\n",
    "min_trace = go.Scatter(x=codes, y=min_values, mode='markers', name='Minimum Value',\n",
    "                       marker=dict(color='orange'), text=min_hover_text, hoverinfo='text')\n",
    "\n",
    "# layout\n",
    "layout = go.Layout(title='Extreme Values for Each GHO (CODE) by Year',\n",
    "                   xaxis=dict(title='GHO (CODE)'),\n",
    "                   yaxis=dict(title='Number of Cases'))\n",
    "\n",
    "# figure\n",
    "fig = go.Figure(data=[max_trace, min_trace], layout=layout)\n",
    "\n",
    "# plot\n",
    "fig.show()\n"
   ]
  },
  {
   "cell_type": "code",
   "execution_count": null,
   "metadata": {},
   "outputs": [],
   "source": []
  }
 ],
 "metadata": {
  "kernelspec": {
   "display_name": "Python 3",
   "language": "python",
   "name": "python3"
  },
  "language_info": {
   "codemirror_mode": {
    "name": "ipython",
    "version": 3
   },
   "file_extension": ".py",
   "mimetype": "text/x-python",
   "name": "python",
   "nbconvert_exporter": "python",
   "pygments_lexer": "ipython3",
   "version": "3.10.12"
  }
 },
 "nbformat": 4,
 "nbformat_minor": 2
}
